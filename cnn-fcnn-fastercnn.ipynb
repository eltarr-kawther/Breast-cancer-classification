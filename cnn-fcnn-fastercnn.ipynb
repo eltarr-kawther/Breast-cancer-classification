{
 "cells": [
  {
   "cell_type": "markdown",
   "source": [
    "# - CNN\n",
    "# - R-CNN\n",
    "# - Fast R-CNN / SPPNet\n",
    "# - Faster R-CNN\n",
    "<br />\n",
    "<br />"
   ],
   "metadata": {
    "collapsed": false,
    "pycharm": {
     "name": "#%% md\n"
    }
   }
  },
  {
   "cell_type": "markdown",
   "metadata": {
    "collapsed": true,
    "pycharm": {
     "name": "#%% md\n"
    }
   },
   "source": [
    "## **CNN**\n",
    "<img src=\"https://viso.ai/wp-content/uploads/2021/04/convolution-neural-network-cnn-concept-1.jpg\" width=\"700\" height=\"280\">\n",
    "\n",
    "<br />\n",
    "\n",
    "CNN un **type de réseaux de neuronnes** utilisée pour **extraire les caractéristiques principales d'une image**\n",
    "\n",
    "Processus CNN:\n",
    "- Une partie convolutive:\n",
    "    Succession de filtres\n",
    "    Extraction des caractéristiques\n",
    "\n",
    "- Une partie PMC:\n",
    "    Combiner les caractéristiques de la sortie convolutive\n",
    "    Classer l’image\n",
    "\n",
    "Très efficace pour de la classification mais inutilisable en tant que tel pour de la reconnaissance d'objet qui nécessite un processus plus complet.<br />\n",
    "<br />\n"
   ]
  },
  {
   "cell_type": "markdown",
   "source": [
    "## **RCNN**\n",
    "<img src=\"https://miro.medium.com/max/700/1*REPHY47zAyzgbNKC6zlvBQ.png\" width=\"700\">\n",
    "\n",
    "<br />\n",
    "\n",
    "Utilisé pour de la **reconnaissance d'objet**\n",
    " - Une image en entrée\n",
    " - Un/plusieurs labels en sortie, les localisations des labels (bounding boxes), leur pourcentage de fiabilité de prédiction\n",
    "\n",
    "Processus de RCNN :\n",
    "1. **Selective Search**\n",
    "    - Génération de multiple zone sur l'image (~2000) via différentes approches tel que le sliding, ce sont les region of interest (ROI)\n",
    "    - Combinaison des ROI basé sur leur similarité de couleur et de taille\n",
    "2. CNN\n",
    "    - Redimension de l'image vers une taille standard 227*227 (warping)\n",
    "    - Feature Extraction\n",
    "    - Classification\n",
    "\n",
    "**Processus long lié à l'extraction de feature pour chaque ROI**.\n",
    "\n",
    "<br />\n",
    "\n",
    "*2. Selective Search*\n",
    "<img src=\"https://player.slideplayer.com/75/12533747/slides/slide_4.jpg\" width=\"500\">\n",
    "\n",
    "<br />"
   ],
   "metadata": {
    "collapsed": false,
    "pycharm": {
     "name": "#%% md\n"
    }
   }
  },
  {
   "cell_type": "markdown",
   "source": [
    "## **Fast R-CNN & SPPNet**\n",
    "\n",
    "**Fast R-CNN** est une amélioration de **SPPNet** qui lui même est une amélioration de **R-CNN**\n",
    "Leur principe est exactement le même: au lieu de faire un CNN pour chaque ROI de chaque image, **on applique d'abord un CNN à l'image d'entrée** et dans un second temps on procède au selective search et à la classification\n",
    "La **différence** entre **Fast R-CNN** et **SPPNet** réside dans la partie de **pooling** qui sont respectivement **un maximum pooling** et un **ROI pooling**\n",
    "<img src=\"https://149695847.v2.pressablecdn.com/wp-content/uploads/2021/09/image-56-1024x340.png\" width=\"900\">\n",
    "\n",
    "### Avantage de performance énorme par rapport a R-CNN\n",
    "\n",
    "<br />"
   ],
   "metadata": {
    "collapsed": false,
    "pycharm": {
     "name": "#%% md\n"
    }
   }
  },
  {
   "cell_type": "markdown",
   "source": [
    "## **Faster R-CNN**\n",
    "\n",
    "Faster R-CNN implémente un réseau de neuronne appellé Region Proposal Network qui permet de faire une selection parmis les ROI et est ajouté à la place de la methode Selective Search\n",
    "\n",
    "<br />"
   ],
   "metadata": {
    "collapsed": false,
    "pycharm": {
     "name": "#%% md\n"
    }
   }
  },
  {
   "cell_type": "markdown",
   "source": [
    "## Performances\n",
    "<img src=\"https://miro.medium.com/max/700/1*4gGddZpKeNIPBoVxYECd5w.png\" width=\"600\">\n"
   ],
   "metadata": {
    "collapsed": false,
    "pycharm": {
     "name": "#%% md\n"
    }
   }
  },
  {
   "cell_type": "markdown",
   "source": [
    "Références:\n",
    "\n",
    "https://analyticsindiamag.com/r-cnn-vs-fast-r-cnn-vs-faster-r-cnn-a-comparative-guide/\n",
    "https://towardsdatascience.com/r-cnn-fast-r-cnn-faster-r-cnn-yolo-object-detection-algorithms-36d53571365e\n",
    "https://www.pyimagesearch.com/2020/06/22/turning-any-cnn-image-classifier-into-an-object-detector-with-keras-tensorflow-and-opencv/\n",
    "\n",
    "feature extraction - https://keras.io/api/applications/#usage-examples-for-image-classification-models\n",
    "transfert learning - https://keras.io/guides/transfer_learning/  \n"
   ],
   "metadata": {
    "collapsed": false,
    "pycharm": {
     "name": "#%% md\n"
    }
   }
  }
 ],
 "metadata": {
  "kernelspec": {
   "display_name": "Python 3",
   "language": "python",
   "name": "python3"
  },
  "language_info": {
   "codemirror_mode": {
    "name": "ipython",
    "version": 2
   },
   "file_extension": ".py",
   "mimetype": "text/x-python",
   "name": "python",
   "nbconvert_exporter": "python",
   "pygments_lexer": "ipython2",
   "version": "2.7.6"
  }
 },
 "nbformat": 4,
 "nbformat_minor": 0
}