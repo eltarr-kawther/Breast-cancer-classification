{
 "cells": [
  {
   "cell_type": "markdown",
   "metadata": {},
   "source": [
    "## What is meant by invasive ductal carcinoma? <a class=\"anchor\" id=\"intro\"></a>\n",
    "\n",
    "<a title=\"Mikael Häggström, M.D. - Author info - Reusing images [CC BY (https://creativecommons.org/licenses/by/2.5)]\" href=\"https://commons.wikimedia.org/wiki/File:Lobules_and_ducts_of_the_breast.jpg\"><img width=\"309\" alt=\"Lobules and ducts of the breast\" style=\"float:left; margin:0px 15px 15px 15px\" src=\"https://upload.wikimedia.org/wikipedia/commons/thumb/4/47/Lobules_and_ducts_of_the_breast.jpg/256px-Lobules_and_ducts_of_the_breast.jpg\"></a>\n",
    "\n",
    "\n",
    "This illustration created [Mikael Häggström](https://commons.wikimedia.org/wiki/File:Lobules_and_ducts_of_the_breast.jpg) shows the anatomy of a healthy breast. One can see the lobules, the glands that can produce milk which flews through the milk ducts. Ductal carcinoma starts to develop in the ducts whereas lobular carcinoma has its origin in the lobules. Invasive carcinoma is able to leave its initial tissue compartment and can form metastases. "
   ]
  },
  {
   "cell_type": "code",
   "execution_count": 1,
   "metadata": {
    "_cell_guid": "b1076dfc-b9ad-4769-8c92-a6c4dae69d19",
    "_kg_hide-input": true,
    "_uuid": "8f2839f25d086af736a60e9eeb907d3b93b6e0e5"
   },
   "outputs": [],
   "source": [
    "import numpy as np\n",
    "import pandas as pd\n",
    "import matplotlib.pyplot as plt\n",
    "import seaborn as sns\n",
    "from PIL import Image\n",
    "\n",
    "from glob import glob\n",
    "from skimage.io import imread\n",
    "from os import listdir\n",
    "\n",
    "import time\n",
    "import copy\n",
    "from tqdm import tqdm_notebook as tqdm"
   ]
  },
  {
   "cell_type": "markdown",
   "metadata": {},
   "source": [
    "## Exploring the data structure <a class=\"anchor\" id=\"explorestructure\"></a>"
   ]
  },
  {
   "cell_type": "code",
   "execution_count": 2,
   "metadata": {},
   "outputs": [
    {
     "name": "stdout",
     "output_type": "stream",
     "text": [
      "279\n"
     ]
    }
   ],
   "source": [
    "files = listdir(\"C:/Users/straw/Desktop/AIS2/Breast-cancer-classification/archive\")\n",
    "print(len(files))"
   ]
  },
  {
   "cell_type": "code",
   "execution_count": 3,
   "metadata": {},
   "outputs": [
    {
     "data": {
      "text/plain": [
       "['10253',\n",
       " '10254',\n",
       " '10255',\n",
       " '10256',\n",
       " '10257',\n",
       " '10258',\n",
       " '10259',\n",
       " '10260',\n",
       " '10261',\n",
       " '10262']"
      ]
     },
     "execution_count": 3,
     "metadata": {},
     "output_type": "execute_result"
    }
   ],
   "source": [
    "files[0:10]"
   ]
  },
  {
   "cell_type": "markdown",
   "metadata": {},
   "source": [
    "Ok, in this folder we should find several images or a further substructure of folders."
   ]
  },
  {
   "cell_type": "code",
   "execution_count": 4,
   "metadata": {},
   "outputs": [
    {
     "data": {
      "text/plain": [
       "279"
      ]
     },
     "execution_count": 4,
     "metadata": {},
     "output_type": "execute_result"
    }
   ],
   "source": [
    "files = listdir(\"C:/Users/straw/Desktop/AIS2/Breast-cancer-classification/archive\")\n",
    "len(files)"
   ]
  },
  {
   "cell_type": "markdown",
   "metadata": {},
   "source": [
    "Ah ok. These are patient ids. For each patient we have an individual subfolder that contains image patches. \n",
    "\n",
    "### How many patients do we have?"
   ]
  },
  {
   "cell_type": "code",
   "execution_count": 5,
   "metadata": {},
   "outputs": [
    {
     "data": {
      "text/plain": [
       "279"
      ]
     },
     "execution_count": 5,
     "metadata": {},
     "output_type": "execute_result"
    }
   ],
   "source": [
    "base_path = \"C:/Users/straw/Desktop/AIS2/Breast-cancer-classification/archive\"\n",
    "folder = listdir(base_path)\n",
    "len(folder)"
   ]
  },
  {
   "cell_type": "markdown",
   "metadata": {},
   "source": [
    "Almost 280 patients. That's a small number compared to the expected number of patients one would like to analyse with our algorithm after deployment. **Consequently overfitting to this specific patient distribution is very likely and we need to take care about the generalization performance of our model**. "
   ]
  },
  {
   "cell_type": "markdown",
   "metadata": {},
   "source": [
    "### How many patches do we have in total?\n",
    "\n",
    "Our algorithm needs to decide whether an image patch contains IDC or not. Consequently not the whole patient tissue slice but the single patches have to be considered as input to our algorithm. How many of them do we have in total?"
   ]
  },
  {
   "cell_type": "code",
   "execution_count": 6,
   "metadata": {
    "_kg_hide-input": true
   },
   "outputs": [],
   "source": [
    "total_images = 0\n",
    "for n in range(len(folder)):\n",
    "    patient_id = folder[n]\n",
    "    for c in [0, 1]:\n",
    "        patient_path = base_path + \"/\"+ str(patient_id)\n",
    "        class_path = patient_path + \"/\" + str(c) + \"/\"\n",
    "        subfiles = listdir(class_path)\n",
    "        total_images += len(subfiles)"
   ]
  },
  {
   "cell_type": "code",
   "execution_count": 7,
   "metadata": {},
   "outputs": [
    {
     "data": {
      "text/plain": [
       "277524"
      ]
     },
     "execution_count": 7,
     "metadata": {},
     "output_type": "execute_result"
    }
   ],
   "source": [
    "total_images"
   ]
  },
  {
   "cell_type": "markdown",
   "metadata": {},
   "source": [
    "Ok, roughly 280000 images. To feed the algorithm with image patches it would be nice to store the path of each image. This way we can load batches of images only one by one without storing the pixel values of all images. "
   ]
  },
  {
   "cell_type": "markdown",
   "metadata": {},
   "source": [
    "### Storing the image_path, patient_id and the target"
   ]
  },
  {
   "cell_type": "code",
   "execution_count": null,
   "metadata": {
    "_kg_hide-input": true
   },
   "outputs": [],
   "source": [
    "data = pd.DataFrame(index=np.arange(0, total_images), columns=[\"patient_id\", \"path\", \"target\"])\n",
    "\n",
    "k = 0\n",
    "for n in range(len(folder)):\n",
    "    patient_id = folder[n]\n",
    "    patient_path = base_path + \"/\"+ str(patient_id) \n",
    "    for c in [0,1]:\n",
    "        class_path = patient_path + \"/\" + str(c) + \"/\"\n",
    "        subfiles = listdir(class_path)\n",
    "        for m in range(len(subfiles)):\n",
    "            image_path = subfiles[m]\n",
    "            data.iloc[k][\"path\"] = class_path + image_path\n",
    "            data.iloc[k][\"target\"] = c\n",
    "            data.iloc[k][\"patient_id\"] = patient_id\n",
    "            k += 1  \n",
    "\n",
    "data.head()"
   ]
  },
  {
   "cell_type": "markdown",
   "metadata": {},
   "source": [
    "Ok, now for each patient we know the path for each patch as well as if it contains IDC or not (the target)."
   ]
  },
  {
   "cell_type": "code",
   "execution_count": null,
   "metadata": {},
   "outputs": [],
   "source": [
    "data.shape"
   ]
  },
  {
   "cell_type": "markdown",
   "metadata": {},
   "source": [
    "No surprise. This matches the total number of patches. "
   ]
  },
  {
   "cell_type": "markdown",
   "metadata": {},
   "source": [
    "# Exploratory analysis <a class=\"anchor\" id=\"eda\"></a>\n",
    "\n",
    "## What do we know about our data? <a class=\"anchor\" id=\"data\"></a>"
   ]
  },
  {
   "cell_type": "code",
   "execution_count": null,
   "metadata": {
    "_kg_hide-input": true
   },
   "outputs": [],
   "source": [
    "cancer_perc = data.groupby(\"patient_id\").target.value_counts()/ data.groupby(\"patient_id\").target.size()\n",
    "cancer_perc = cancer_perc.unstack()\n",
    "\n",
    "fig, ax = plt.subplots(1,3,figsize=(20,5))\n",
    "sns.distplot(data.groupby(\"patient_id\").size(), ax=ax[0], color=\"Orange\", kde=False, bins=30)\n",
    "ax[0].set_xlabel(\"Number of patches\")\n",
    "ax[0].set_ylabel(\"Frequency\");\n",
    "ax[0].set_title(\"How many patches do we have per patient?\");\n",
    "sns.distplot(cancer_perc.loc[:, 1]*100, ax=ax[1], color=\"Tomato\", kde=False, bins=30)\n",
    "ax[1].set_title(\"How much percentage of an image is covered by IDC?\")\n",
    "ax[1].set_ylabel(\"Frequency\")\n",
    "ax[1].set_xlabel(\"% of patches with IDC\");\n",
    "sns.countplot(data.target, palette=\"Set2\", ax=ax[2])\n",
    "ax[2].set_xlabel(\"no(0) versus yes(1)\")\n",
    "ax[2].set_title(\"How many patches show IDC?\")"
   ]
  },
  {
   "cell_type": "markdown",
   "metadata": {},
   "source": [
    "### Insights\n",
    "\n",
    "1. The number of image patches per patient varies a lot! **This leads to the questions whether all images show the same resolution of tissue cells of if this varies between patients**. \n",
    "2. Some patients have more than 80 % patches that show IDC! Consequently the tissue is full of cancer or only a part of the breast was covered by the tissue slice that is focused on the IDC cancer. **Does a tissue slice per patient cover the whole region of interest?**\n",
    "3. The **classes of IDC versus no IDC are imbalanced**. We have to check this again after setting up a validation strategy and find a strategy to deal with class weights (if we like to apply them)."
   ]
  },
  {
   "cell_type": "markdown",
   "metadata": {},
   "source": [
    "## Looking at healthy and cancer patches <a class=\"anchor\" id=\"patches\"></a>"
   ]
  },
  {
   "cell_type": "code",
   "execution_count": null,
   "metadata": {},
   "outputs": [],
   "source": [
    "data.target = data.target.astype(np.int)"
   ]
  },
  {
   "cell_type": "code",
   "execution_count": null,
   "metadata": {},
   "outputs": [],
   "source": [
    "pos_selection = np.random.choice(data[data.target==1].index.values, size=50, replace=False)\n",
    "neg_selection = np.random.choice(data[data.target==0].index.values, size=50, replace=False)"
   ]
  },
  {
   "cell_type": "markdown",
   "metadata": {},
   "source": [
    "### Cancer patches"
   ]
  },
  {
   "cell_type": "code",
   "execution_count": null,
   "metadata": {
    "_kg_hide-input": true
   },
   "outputs": [],
   "source": [
    "fig, ax = plt.subplots(5,10,figsize=(20,10))\n",
    "\n",
    "for n in range(5):\n",
    "    for m in range(10):\n",
    "        idx = pos_selection[m + 10*n]\n",
    "        image = imread(data.loc[idx, \"path\"])\n",
    "        ax[n,m].imshow(image)\n",
    "        ax[n,m].grid(False)"
   ]
  },
  {
   "cell_type": "markdown",
   "metadata": {},
   "source": [
    "### Healthy patches"
   ]
  },
  {
   "cell_type": "code",
   "execution_count": null,
   "metadata": {
    "_kg_hide-input": true
   },
   "outputs": [],
   "source": [
    "fig, ax = plt.subplots(5,10,figsize=(20,10))\n",
    "\n",
    "for n in range(5):\n",
    "    for m in range(10):\n",
    "        idx = neg_selection[m + 10*n]\n",
    "        image = imread(data.loc[idx, \"path\"])\n",
    "        ax[n,m].imshow(image)\n",
    "        ax[n,m].grid(False)"
   ]
  },
  {
   "cell_type": "markdown",
   "metadata": {},
   "source": [
    "### Insights\n",
    "\n",
    "* Sometimes we can find artifacts or incomplete patches that have smaller size than 50x50 pixels. \n",
    "* Patches with cancer look more violet and crowded than healthy ones. Is this really typical for cancer or is it more typical for ductal cells and tissue?\n",
    "* Though some of the healthy patches are very violet colored too!\n",
    "* Would be very interesting to hear what criteria are important for a pathologist.\n",
    "* I assume that the wholes in the tissue belong to the mammary ducts where the milk can flow through. "
   ]
  },
  {
   "cell_type": "markdown",
   "metadata": {},
   "source": [
    "## Visualising the breast tissue <a class=\"anchor\" id=\"tissue\"></a>\n",
    "\n",
    "This part is a bit tricky! We have to extract all coordinates of image patches that are stored in the image names. Then we can use the coordinates to reconstruct the whole breast tissue of a patient. This way we can also explore how diseased tissue looks like compared to healthy ones. To simplify this task let's write a method that takes a patient and outcomes a dataframe with coordinates and targets."
   ]
  },
  {
   "cell_type": "code",
   "execution_count": null,
   "metadata": {},
   "outputs": [],
   "source": [
    "df.head()"
   ]
  },
  {
   "cell_type": "code",
   "execution_count": null,
   "metadata": {
    "_kg_hide-input": true
   },
   "outputs": [],
   "source": [
    "def extract_coords(df):\n",
    "    coord = df.path.str.rsplit(\"_\", n=4, expand=True)\n",
    "    coord = coord.drop([0, 1, 4], axis=1)\n",
    "    coord = coord.rename({2: \"x\", 3: \"y\"}, axis=1)\n",
    "    coord.loc[:, \"x\"] = coord.loc[:,\"x\"].str.replace(\"x\", \"\", case=False).astype(np.int)\n",
    "    coord.loc[:, \"y\"] = coord.loc[:,\"y\"].str.replace(\"y\", \"\", case=False).astype(np.int)\n",
    "    df.loc[:, \"x\"] = coord.x.values\n",
    "    df.loc[:, \"y\"] = coord.y.values\n",
    "    return df\n",
    "\n",
    "def get_cancer_dataframe(patient_id, cancer_id):\n",
    "    path = base_path + \"/\" + str(patient_id) + \"/\" + cancer_id\n",
    "    files = listdir(path)\n",
    "    dataframe = pd.DataFrame(files, columns=[\"filename\"])\n",
    "    path_names = path + \"/\" + dataframe.filename.values\n",
    "    dataframe = dataframe.filename.str.rsplit(\"_\", n=4, expand=True)\n",
    "    dataframe.loc[:, \"target\"] = np.int(cancer_id)\n",
    "    dataframe.loc[:, \"path\"] = path_names\n",
    "    dataframe = dataframe.drop([0, 1, 4], axis=1)\n",
    "    dataframe = dataframe.rename({2: \"x\", 3: \"y\"}, axis=1)\n",
    "    dataframe.loc[:, \"x\"] = dataframe.loc[:,\"x\"].str.replace(\"x\", \"\", case=False).astype(np.int)\n",
    "    dataframe.loc[:, \"y\"] = dataframe.loc[:,\"y\"].str.replace(\"y\", \"\", case=False).astype(np.int)\n",
    "    return dataframe\n",
    "\n",
    "def get_patient_dataframe(patient_id):\n",
    "    df_0 = get_cancer_dataframe(patient_id, \"0\")\n",
    "    df_1 = get_cancer_dataframe(patient_id, \"1\")\n",
    "    patient_df = df_0.append(df_1)\n",
    "    return patient_df"
   ]
  },
  {
   "cell_type": "code",
   "execution_count": null,
   "metadata": {},
   "outputs": [],
   "source": [
    "data.patient_id.values[0]"
   ]
  },
  {
   "cell_type": "code",
   "execution_count": null,
   "metadata": {},
   "outputs": [],
   "source": [
    "example = get_patient_dataframe(data.patient_id.values[0])\n",
    "example.head()"
   ]
  },
  {
   "cell_type": "markdown",
   "metadata": {},
   "source": [
    "Ok, now we have the coordinates for each patch, its path to load the image and its target information."
   ]
  },
  {
   "cell_type": "markdown",
   "metadata": {},
   "source": [
    "### Binary target visualisation per tissue slice <a class=\"anchor\" id=\"binarytissue\"></a>\n",
    "\n",
    "Before we will take a look at the whole tissue let's keep it a bit simpler by looking at the target structure in the x-y-space for a handful of patients:"
   ]
  },
  {
   "cell_type": "code",
   "execution_count": null,
   "metadata": {
    "_kg_hide-input": true
   },
   "outputs": [],
   "source": [
    "fig, ax = plt.subplots(5,3,figsize=(20, 27))\n",
    "\n",
    "patient_ids = data.patient_id.unique()\n",
    "\n",
    "for n in range(5):\n",
    "    for m in range(3):\n",
    "        patient_id = patient_ids[m + 3*n]\n",
    "        example_df = get_patient_dataframe(patient_id)\n",
    "        \n",
    "        ax[n,m].scatter(example_df.x.values, example_df.y.values, c=example_df.target.values, cmap=\"coolwarm\", s=20);\n",
    "        ax[n,m].set_title(\"patient \" + patient_id)\n",
    "        ax[n,m].set_xlabel(\"y coord\")\n",
    "        ax[n,m].set_ylabel(\"x coord\")"
   ]
  },
  {
   "cell_type": "markdown",
   "metadata": {},
   "source": [
    "### Insights\n",
    "\n",
    "* Sometimes we don't have the full tissue information. It seems that tissue patches have been discarded or lost during preparation. \n",
    "* Reading the paper (link!) that seems to be related to this data this could also be part of the preprocessing."
   ]
  },
  {
   "cell_type": "markdown",
   "metadata": {},
   "source": [
    "### Visualising the breast tissue images <a class=\"anchor\" id=\"tissueimages\"></a>\n",
    "\n",
    "Ok, now it's time to go one step deeper with our EDA. Given the coordinates of image patches we could try to reconstruct the whole tissue image (not only the targets). "
   ]
  },
  {
   "cell_type": "code",
   "execution_count": null,
   "metadata": {
    "_kg_hide-input": true
   },
   "outputs": [],
   "source": [
    "def visualise_breast_tissue(patient_id, pred_df=None):\n",
    "    example_df = get_patient_dataframe(patient_id)\n",
    "    max_point = [example_df.y.max()-1, example_df.x.max()-1]\n",
    "    grid = 255*np.ones(shape = (max_point[0] + 50, max_point[1] + 50, 3)).astype(np.uint8)\n",
    "    mask = 255*np.ones(shape = (max_point[0] + 50, max_point[1] + 50, 3)).astype(np.uint8)\n",
    "    if pred_df is not None:\n",
    "        patient_df = pred_df[pred_df.patient_id == patient_id].copy()\n",
    "    mask_proba = np.zeros(shape = (max_point[0] + 50, max_point[1] + 50, 1)).astype(np.float)\n",
    "    \n",
    "    broken_patches = []\n",
    "    for n in range(len(example_df)):\n",
    "        try:\n",
    "            image = imread(example_df.path.values[n])\n",
    "            \n",
    "            target = example_df.target.values[n]\n",
    "            \n",
    "            x_coord = np.int(example_df.x.values[n])\n",
    "            y_coord = np.int(example_df.y.values[n])\n",
    "            x_start = x_coord - 1\n",
    "            y_start = y_coord - 1\n",
    "            x_end = x_start + 50\n",
    "            y_end = y_start + 50\n",
    "\n",
    "            grid[y_start:y_end, x_start:x_end] = image\n",
    "            if target == 1:\n",
    "                mask[y_start:y_end, x_start:x_end, 0] = 250\n",
    "                mask[y_start:y_end, x_start:x_end, 1] = 0\n",
    "                mask[y_start:y_end, x_start:x_end, 2] = 0\n",
    "            if pred_df is not None:\n",
    "                \n",
    "                proba = patient_df[\n",
    "                    (patient_df.x==x_coord) & (patient_df.y==y_coord)].proba\n",
    "                mask_proba[y_start:y_end, x_start:x_end, 0] = np.float(proba)\n",
    "\n",
    "        except ValueError:\n",
    "            broken_patches.append(example_df.path.values[n])\n",
    "    \n",
    "    \n",
    "    return grid, mask, broken_patches, mask_proba"
   ]
  },
  {
   "cell_type": "markdown",
   "metadata": {},
   "source": [
    "Let's use an example patient with id 13616: "
   ]
  },
  {
   "cell_type": "code",
   "execution_count": null,
   "metadata": {
    "_kg_hide-input": true
   },
   "outputs": [],
   "source": [
    "example = \"13616\"\n",
    "grid, mask, broken_patches,_ = visualise_breast_tissue(example)\n",
    "\n",
    "fig, ax = plt.subplots(1,2,figsize=(20,10))\n",
    "ax[0].imshow(grid, alpha=0.9)\n",
    "ax[1].imshow(mask, alpha=0.8)\n",
    "ax[1].imshow(grid, alpha=0.7)\n",
    "ax[0].grid(False)\n",
    "ax[1].grid(False)\n",
    "for m in range(2):\n",
    "    ax[m].set_xlabel(\"y-coord\")\n",
    "    ax[m].set_ylabel(\"y-coord\")\n",
    "ax[0].set_title(\"Breast tissue slice of patient: \" + patient_id)\n",
    "ax[1].set_title(\"Cancer tissue colored red \\n of patient: \" + patient_id);"
   ]
  },
  {
   "cell_type": "markdown",
   "metadata": {},
   "source": [
    "### Insights\n",
    "\n",
    "* The tissue on the left is shown without target information.\n",
    "* The image on the right shows the same tissue but cancer is stained with intensive red color. \n",
    "* Comparing both images it seems that darker, more violet colored tissue has a higher chance to be cancer than those with rose color. \n",
    "* But as one can see it's not always the case. So we need to ask ourselves if violet tissue patches have more mammary ducts than rose ones. If this is true we have to be careful. Our model might start to learn that mammary ducts are always related to cancer! \n",
    "\n",
    "Sometimes it's not possible to load an image patch as the path is ill defined. But in our case, we were able to load them all:"
   ]
  }
 ],
 "metadata": {
  "kernelspec": {
   "display_name": "Python 3 (ipykernel)",
   "language": "python",
   "name": "python3"
  },
  "language_info": {
   "codemirror_mode": {
    "name": "ipython",
    "version": 3
   },
   "file_extension": ".py",
   "mimetype": "text/x-python",
   "name": "python",
   "nbconvert_exporter": "python",
   "pygments_lexer": "ipython3",
   "version": "3.8.11"
  }
 },
 "nbformat": 4,
 "nbformat_minor": 4
}
