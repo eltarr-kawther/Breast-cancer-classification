{
 "cells": [
  {
   "cell_type": "code",
   "execution_count": 1,
   "metadata": {
    "collapsed": true
   },
   "outputs": [],
   "source": [
    "import os\n",
    "import cv2\n",
    "from tqdm import tqdm\n",
    "import numpy as np"
   ]
  },
  {
   "cell_type": "code",
   "execution_count": 2,
   "outputs": [],
   "source": [
    "wd = os.path.sep.join([os.getcwd(), \"data\"])\n",
    "train_path = os.path.sep.join([wd, \"train\"])\n",
    "test_path = os.path.sep.join([wd, \"test\"])\n",
    "images_path = os.path.sep.join([wd, \"images\"])\n",
    "items_path = [os.path.sep.join([images_path, image]) for image in os.listdir(images_path)]\n",
    "\n",
    "train_size = .6\n",
    "\n",
    "train_target, test_target = [], []"
   ],
   "metadata": {
    "collapsed": false,
    "pycharm": {
     "name": "#%%\n"
    }
   }
  },
  {
   "cell_type": "code",
   "execution_count": 3,
   "outputs": [],
   "source": [
    "def create_train_test():\n",
    "    for item_path in tqdm(items_path):\n",
    "        for label in os.listdir(item_path):\n",
    "            new_path = os.path.sep.join([item_path, label])\n",
    "            size_imgs = len(os.listdir(new_path))\n",
    "            for i, img in enumerate(os.listdir(new_path)):\n",
    "                _img = cv2.imread(os.path.sep.join([new_path, img]))\n",
    "                train_set = i < (train_size * size_imgs)\n",
    "                destination = os.path.sep.join([train_path if train_set else test_path, img])\n",
    "                if train_set:\n",
    "                    train_target.append(0) if label == \"0\" else train_target.append(1)\n",
    "                else:\n",
    "                    test_target.append(0) if label == \"0\" else test_target.append(1)\n",
    "                cv2.imwrite(destination, _img)\n",
    "\n",
    "    with open(os.path.sep.join([wd, 'train_y.npy']), 'wb') as f:\n",
    "        np.save(f, np.array(train_target))\n",
    "    with open(os.path.sep.join([wd, 'test_y.npy']), 'wb') as f:\n",
    "        np.save(f, np.array(test_target))\n",
    "\n",
    "def load_target():\n",
    "    return np.load(os.path.sep.join([wd, 'train_y.npy'])), np.load(os.path.sep.join([wd, 'train_y.npy']))\n",
    "\n",
    "def debug_data():\n",
    "    total_len = len(train_target) + len(test_target)\n",
    "    train_split = np.unique(train_target, return_counts=True)\n",
    "    test_split = np.unique(test_target, return_counts=True)\n",
    "    X_train_len = train_split[1]\n",
    "    X_test_len = test_split[1]\n",
    "    print(\"X_train: 0: ->\", X_train_len[0], \" 1: ->\", X_train_len[1])\n",
    "    print(\"X_test:  0: ->\", X_test_len[0], \" 1: -->\", X_test_len[1])"
   ],
   "metadata": {
    "collapsed": false,
    "pycharm": {
     "name": "#%%\n"
    }
   }
  },
  {
   "cell_type": "code",
   "execution_count": 4,
   "outputs": [
    {
     "name": "stderr",
     "output_type": "stream",
     "text": [
      "100%|██████████| 279/279 [31:34<00:00,  6.79s/it]"
     ]
    },
    {
     "name": "stdout",
     "output_type": "stream",
     "text": [
      "X_train: 0: -> 119353  1: -> 47377\n",
      "X_test:  0: -> 79385  1: --> 31409\n"
     ]
    },
    {
     "name": "stderr",
     "output_type": "stream",
     "text": [
      "\n"
     ]
    }
   ],
   "source": [
    "create_train_test()\n",
    "debug_data()"
   ],
   "metadata": {
    "collapsed": false,
    "pycharm": {
     "name": "#%%\n"
    }
   }
  }
 ],
 "metadata": {
  "kernelspec": {
   "display_name": "Python 3",
   "language": "python",
   "name": "python3"
  },
  "language_info": {
   "codemirror_mode": {
    "name": "ipython",
    "version": 2
   },
   "file_extension": ".py",
   "mimetype": "text/x-python",
   "name": "python",
   "nbconvert_exporter": "python",
   "pygments_lexer": "ipython2",
   "version": "2.7.6"
  }
 },
 "nbformat": 4,
 "nbformat_minor": 0
}