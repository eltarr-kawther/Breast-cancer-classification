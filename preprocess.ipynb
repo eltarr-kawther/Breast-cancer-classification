{
 "cells": [
  {
   "cell_type": "code",
   "execution_count": 1,
   "metadata": {
    "collapsed": true
   },
   "outputs": [],
   "source": [
    "import os\n",
    "import cv2\n",
    "from tqdm import tqdm\n",
    "import numpy as np\n",
    "import seaborn as sns\n",
    "from keras.layers import RandomFlip, RandomRotation, RandomContrast, RandomTranslation\n",
    "from keras.models import Sequential"
   ]
  },
  {
   "cell_type": "code",
   "execution_count": 2,
   "outputs": [],
   "source": [
    "wd = os.path.sep.join([os.getcwd(), \"data\"])\n",
    "train_path = os.path.sep.join([wd, \"train\"])\n",
    "test_path = os.path.sep.join([wd, \"test\"])\n",
    "images_path = os.path.sep.join([wd, \"images\"])\n",
    "items_path = [os.path.sep.join([images_path, image]) for image in os.listdir(images_path)]\n",
    "\n",
    "train_size = .6\n",
    "\n",
    "train_target, test_target = [], []"
   ],
   "metadata": {
    "collapsed": false,
    "pycharm": {
     "name": "#%%\n"
    }
   }
  },
  {
   "cell_type": "code",
   "execution_count": 8,
   "outputs": [],
   "source": [
    "def create_train_test():\n",
    "    for item_path in tqdm(items_path):\n",
    "        for label in os.listdir(item_path):\n",
    "            new_path = os.path.sep.join([item_path, label])\n",
    "            size_imgs = len(os.listdir(new_path))\n",
    "            for i, img in enumerate(os.listdir(new_path)):\n",
    "                _img = cv2.imread(os.path.sep.join([new_path, img]))\n",
    "                train_set = i < (train_size * size_imgs)\n",
    "                destination = os.path.sep.join([train_path if train_set else test_path, label, img])\n",
    "                if train_set:\n",
    "                    train_target.append(0) if label == \"0\" else train_target.append(1)\n",
    "                else:\n",
    "                    test_target.append(0) if label == \"0\" else test_target.append(1)\n",
    "                cv2.imwrite(destination, _img)\n",
    "\n",
    "def debug_data():\n",
    "    total_len = len(train_target) + len(test_target)\n",
    "    train_split = np.unique(train_target, return_counts=True)\n",
    "    test_split = np.unique(test_target, return_counts=True)\n",
    "    X_train_len = train_split[1]\n",
    "    X_test_len = test_split[1]\n",
    "    print(\"X_train: 0: ->\", X_train_len[0], \" 1: ->\", X_train_len[1])\n",
    "    print(\"X_test:  0: ->\", X_test_len[0], \" 1: -->\", X_test_len[1])\n",
    "    print(\"train: \", X_train_len[0]+X_train_len[1], \"test: \", X_test_len[0]+X_test_len[1])"
   ],
   "metadata": {
    "collapsed": false,
    "pycharm": {
     "name": "#%%\n"
    }
   }
  },
  {
   "cell_type": "code",
   "execution_count": 4,
   "outputs": [
    {
     "name": "stderr",
     "output_type": "stream",
     "text": [
      "100%|██████████| 279/279 [07:28<00:00,  1.61s/it]"
     ]
    },
    {
     "name": "stdout",
     "output_type": "stream",
     "text": [
      "X_train: 0: -> 119353  1: -> 47377\n",
      "X_test:  0: -> 79385  1: --> 31409\n"
     ]
    },
    {
     "name": "stderr",
     "output_type": "stream",
     "text": [
      "\n"
     ]
    }
   ],
   "source": [
    "create_train_test()"
   ],
   "metadata": {
    "collapsed": false,
    "pycharm": {
     "name": "#%%\n"
    }
   }
  },
  {
   "cell_type": "code",
   "execution_count": 9,
   "outputs": [
    {
     "name": "stdout",
     "output_type": "stream",
     "text": [
      "X_train: 0: -> 119353  1: -> 47377\n",
      "X_test:  0: -> 79385  1: --> 31409\n",
      "train:  166730 test:  110794\n"
     ]
    }
   ],
   "source": [
    "debug_data()"
   ],
   "metadata": {
    "collapsed": false,
    "pycharm": {
     "name": "#%%\n"
    }
   }
  },
  {
   "cell_type": "code",
   "execution_count": 6,
   "outputs": [
    {
     "data": {
      "text/plain": "<seaborn.axisgrid.FacetGrid at 0x17d4bc0f310>"
     },
     "execution_count": 6,
     "metadata": {},
     "output_type": "execute_result"
    },
    {
     "data": {
      "text/plain": "<Figure size 360x360 with 1 Axes>",
      "image/png": "[encoded data removed]"
     },
     "metadata": {
      "needs_background": "light"
     },
     "output_type": "display_data"
    }
   ],
   "source": [
    "sns.displot(np.hstack((train_target, test_target)))"
   ],
   "metadata": {
    "collapsed": false,
    "pycharm": {
     "name": "#%%\n"
    }
   }
  },
  {
   "cell_type": "code",
   "execution_count": 7,
   "outputs": [],
   "source": [
    "def data_augmentation(imgs, new_sample_per_imgs):\n",
    "    \"\"\"\n",
    "    Create new samples of bananas\n",
    "    :param imgs: bananas images\n",
    "    :param new_sample_per_imgs: number of new sample per images\n",
    "    :return: X_augmented\n",
    "    \"\"\"\n",
    "    news_images = []\n",
    "    augmentation = Sequential([\n",
    "        RandomFlip(\"horizontal_and_vertical\"),\n",
    "        RandomRotation(0.3),\n",
    "        RandomTranslation(height_factor=0.25, width_factor=0.25, fill_mode=\"wrap\"),\n",
    "        RandomContrast(0.2)])\n",
    "    for i in tqdm(range(len(imgs))):\n",
    "        for _ in range(new_sample_per_imgs):\n",
    "            augmented = augmentation(imgs[i])\n",
    "            news_images.append(np.array(augmented))\n",
    "    return np.array(news_images)"
   ],
   "metadata": {
    "collapsed": false,
    "pycharm": {
     "name": "#%%\n"
    }
   }
  }
 ],
 "metadata": {
  "kernelspec": {
   "display_name": "Python 3",
   "language": "python",
   "name": "python3"
  },
  "language_info": {
   "codemirror_mode": {
    "name": "ipython",
    "version": 2
   },
   "file_extension": ".py",
   "mimetype": "text/x-python",
   "name": "python",
   "nbconvert_exporter": "python",
   "pygments_lexer": "ipython2",
   "version": "2.7.6"
  }
 },
 "nbformat": 4,
 "nbformat_minor": 0
}