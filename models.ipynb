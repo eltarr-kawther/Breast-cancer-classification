{
 "cells": [
  {
   "cell_type": "code",
   "execution_count": 1,
   "outputs": [],
   "source": [
    "from keras.models import Sequential, load_model\n",
    "from keras.layers import SeparableConv2D, MaxPooling2D, Flatten, Dense, Dropout, BatchNormalization\n",
    "from keras.callbacks import EarlyStopping, ModelCheckpoint\n",
    "from keras.applications.xception import preprocess_input\n",
    "from keras.preprocessing.image import ImageDataGenerator\n",
    "\n",
    "import numpy as np\n",
    "import os\n",
    "\n",
    "from sklearn.metrics import classification_report"
   ],
   "metadata": {
    "collapsed": false,
    "pycharm": {
     "name": "#%%\n"
    }
   }
  },
  {
   "cell_type": "code",
   "execution_count": 16,
   "outputs": [],
   "source": [
    "wd = os.path.sep.join([os.getcwd(), \"data\"])\n",
    "train_path = os.path.sep.join([wd, \"train\"])\n",
    "test_path = os.path.sep.join([wd, \"test\"])\n",
    "symblink_path = os.path.sep.join([wd, \"symblink\"])"
   ],
   "metadata": {
    "collapsed": false,
    "pycharm": {
     "name": "#%%\n"
    }
   }
  },
  {
   "cell_type": "markdown",
   "source": [
    "input from multiple directories with keras https://stackoverflow.com/questions/60787620/combine-two-data-generator-to-train-a-cnn"
   ],
   "metadata": {
    "collapsed": false,
    "pycharm": {
     "name": "#%% md\n"
    }
   }
  },
  {
   "cell_type": "markdown",
   "source": [
    "## Declaration of the image generators used to train models without having to load images in cache"
   ],
   "metadata": {
    "collapsed": false,
    "pycharm": {
     "name": "#%% md\n"
    }
   }
  },
  {
   "cell_type": "code",
   "execution_count": 17,
   "outputs": [
    {
     "name": "stdout",
     "output_type": "stream",
     "text": [
      "Found 141722 images belonging to 2 classes.\n",
      "Found 226722 images belonging to 2 classes.\n",
      "Found 25008 images belonging to 2 classes.\n",
      "Found 40008 images belonging to 2 classes.\n",
      "Found 110794 images belonging to 2 classes.\n"
     ]
    }
   ],
   "source": [
    "img_datagen = ImageDataGenerator(preprocessing_function=preprocess_input, validation_split=.15)\n",
    "\n",
    "training_gen_original = img_datagen.flow_from_directory(train_path, target_size=(51,51), subset=\"training\", batch_size=32)\n",
    "training_gen_augmented = img_datagen.flow_from_directory(symblink_path, target_size=(51,51), subset=\"training\", batch_size=32, follow_links=True)\n",
    "\n",
    "\n",
    "validation_gen_original = img_datagen.flow_from_directory(train_path, target_size=(51,51), subset=\"validation\", batch_size=32)\n",
    "validation_gen_augmented = img_datagen.flow_from_directory(symblink_path, target_size=(51,51), subset=\"validation\", batch_size=32, follow_links=True)\n",
    "\n",
    "\n",
    "test_gen = img_datagen.flow_from_directory(test_path, target_size=(51,51), batch_size=32)"
   ],
   "metadata": {
    "collapsed": false,
    "pycharm": {
     "name": "#%%\n"
    }
   }
  },
  {
   "cell_type": "code",
   "execution_count": 13,
   "outputs": [],
   "source": [
    "epochs = 50\n",
    "batch_size = 32\n",
    "callback = lambda x: [EarlyStopping(monitor='val_loss', patience=2, mode=\"min\"), ModelCheckpoint(filepath=f\"{wd}/{x}_model.h5\", monitor='val_loss', save_best_only=True)]\n",
    "\n",
    "# original\n",
    "totalTrain_original = 141722 # total number of images in the train set\n",
    "totalVal_original = 25008    # total number of images in the validation set\n",
    "\n",
    "# original + augmented\n",
    "totalTrain_augmented = 226722 # total number of images in the train set\n",
    "totalVal_augmented = 40008    # total number of images in the validation set"
   ],
   "metadata": {
    "collapsed": false,
    "pycharm": {
     "name": "#%%\n"
    }
   }
  },
  {
   "cell_type": "markdown",
   "metadata": {
    "collapsed": true,
    "pycharm": {
     "name": "#%% md\n"
    }
   },
   "source": [
    "## I - CNN model with unbalanced classes (without data augmentation)\n",
    "### First perform classes weight to prioritize sample that are fewer (classe 1)"
   ]
  },
  {
   "cell_type": "code",
   "execution_count": 6,
   "outputs": [
    {
     "data": {
      "text/plain": "{0: 0.6984751259228593, 1: 1.7596036850338954}"
     },
     "execution_count": 6,
     "metadata": {},
     "output_type": "execute_result"
    }
   ],
   "source": [
    "from sklearn.utils import class_weight\n",
    "\n",
    "class_weights = class_weight.compute_class_weight('balanced', classes=np.unique(training_gen_original.classes), y=training_gen_original.classes)\n",
    "train_class_weights = dict(enumerate(class_weights))\n",
    "train_class_weights"
   ],
   "metadata": {
    "collapsed": false,
    "pycharm": {
     "name": "#%%\n"
    }
   }
  },
  {
   "cell_type": "code",
   "execution_count": 19,
   "outputs": [],
   "source": [
    "model = Sequential()\n",
    "model.add(SeparableConv2D(32, (3, 3), activation=\"relu\"))\n",
    "model.add(BatchNormalization(axis=-1))\n",
    "model.add(MaxPooling2D((2, 2)))\n",
    "\n",
    "model.add(SeparableConv2D(32, (3, 3), activation=\"relu\"))\n",
    "model.add(BatchNormalization(axis=-1))\n",
    "model.add(MaxPooling2D((2, 2)))\n",
    "\n",
    "model.add(SeparableConv2D(64, (3, 3), activation=\"relu\"))\n",
    "model.add(BatchNormalization(axis=-1))\n",
    "model.add(MaxPooling2D(pool_size=(2, 2)))\n",
    "\n",
    "model.add(Flatten())\n",
    "\n",
    "model.add(Dense(64, activation=\"relu\"))\n",
    "model.add(BatchNormalization(axis=-1))\n",
    "model.add(Dropout(0.5))\n",
    "model.add(Dense(2, activation=\"softmax\"))\n",
    "\n",
    "model.compile(loss='binary_crossentropy', optimizer='adam', metrics=['accuracy'])"
   ],
   "metadata": {
    "collapsed": false,
    "pycharm": {
     "name": "#%%\n"
    }
   }
  },
  {
   "cell_type": "markdown",
   "source": [
    "### Batch size comparaison :\n",
    "128 -> Val accuracy: .76 - 5min\n",
    "64 -> Val accuracy: .82 - 15min\n",
    "32 -> Val accuracy: .84 - +60min"
   ],
   "metadata": {
    "collapsed": false,
    "pycharm": {
     "name": "#%% md\n"
    }
   }
  },
  {
   "cell_type": "markdown",
   "source": [
    "## II - CNN model with balanced classes data augmentation"
   ],
   "metadata": {
    "collapsed": false,
    "pycharm": {
     "name": "#%% md\n"
    }
   }
  },
  {
   "cell_type": "code",
   "execution_count": 20,
   "outputs": [
    {
     "name": "stdout",
     "output_type": "stream",
     "text": [
      "Epoch 1/50\n",
      "7085/7085 [==============================] - 547s 77ms/step - loss: 0.2697 - accuracy: 0.8871 - val_loss: 0.2314 - val_accuracy: 0.9000\n",
      "Epoch 2/50\n",
      "7085/7085 [==============================] - 311s 44ms/step - loss: 0.2422 - accuracy: 0.8988 - val_loss: 0.3360 - val_accuracy: 0.8750\n",
      "Epoch 3/50\n",
      "7085/7085 [==============================] - 317s 45ms/step - loss: 0.2341 - accuracy: 0.9021 - val_loss: 0.2198 - val_accuracy: 0.9055\n",
      "Epoch 4/50\n",
      "7085/7085 [==============================] - 317s 45ms/step - loss: 0.2283 - accuracy: 0.9049 - val_loss: 0.2230 - val_accuracy: 0.9084\n",
      "Epoch 5/50\n",
      "7085/7085 [==============================] - 314s 44ms/step - loss: 0.2253 - accuracy: 0.9063 - val_loss: 0.2144 - val_accuracy: 0.9113\n",
      "Epoch 6/50\n",
      "7085/7085 [==============================] - 318s 45ms/step - loss: 0.2218 - accuracy: 0.9077 - val_loss: 0.2232 - val_accuracy: 0.9070\n",
      "Epoch 7/50\n",
      "7085/7085 [==============================] - 322s 45ms/step - loss: 0.2186 - accuracy: 0.9090 - val_loss: 0.2206 - val_accuracy: 0.9058\n"
     ]
    }
   ],
   "source": [
    "hist = model.fit(x=training_gen_augmented, validation_data=training_gen_augmented, callbacks=callback(\"CNN_balanced\"), epochs=epochs,\n",
    "          batch_size=batch_size, steps_per_epoch=totalTrain_augmented // batch_size, validation_steps=totalVal_augmented // batch_size).history"
   ],
   "metadata": {
    "collapsed": false,
    "pycharm": {
     "name": "#%%\n"
    }
   }
  },
  {
   "cell_type": "code",
   "execution_count": 21,
   "outputs": [],
   "source": [
    "import pickle\n",
    "with open('data/history.pickle', 'wb') as handle:\n",
    "    pickle.dump(hist, handle, protocol=pickle.HIGHEST_PROTOCOL)\n",
    "\n",
    "# with open('data/history.pickle', 'rb') as handle:\n",
    "#     hist = pickle.load(handle)"
   ],
   "metadata": {
    "collapsed": false,
    "pycharm": {
     "name": "#%%\n"
    }
   }
  }
 ],
 "metadata": {
  "kernelspec": {
   "display_name": "Python 3",
   "language": "python",
   "name": "python3"
  },
  "language_info": {
   "codemirror_mode": {
    "name": "ipython",
    "version": 2
   },
   "file_extension": ".py",
   "mimetype": "text/x-python",
   "name": "python",
   "nbconvert_exporter": "python",
   "pygments_lexer": "ipython2",
   "version": "2.7.6"
  }
 },
 "nbformat": 4,
 "nbformat_minor": 0
}