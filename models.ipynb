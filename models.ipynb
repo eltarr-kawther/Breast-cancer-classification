{
 "cells": [
  {
   "cell_type": "code",
   "execution_count": 1,
   "outputs": [],
   "source": [
    "from keras.models import Sequential\n",
    "from keras.utils.vis_utils import plot_model\n",
    "import keras.backend as K\n",
    "from tensorflow.keras.optimizers import Adam\n",
    "from keras.layers import SeparableConv2D, MaxPooling2D, Flatten, Dense, Dropout, BatchNormalization\n",
    "from keras.callbacks import EarlyStopping, ModelCheckpoint\n",
    "from keras.applications.xception import preprocess_input, Xception\n",
    "from keras.preprocessing.image import ImageDataGenerator\n",
    "import matplotlib.pyplot as plt\n",
    "import seaborn as sns\n",
    "import pickle\n",
    "\n",
    "import numpy as np\n",
    "import os\n",
    "\n",
    "from sklearn.metrics import classification_report, confusion_matrix"
   ],
   "metadata": {
    "collapsed": false,
    "pycharm": {
     "name": "#%%\n"
    }
   }
  },
  {
   "cell_type": "markdown",
   "source": [
    "## Declare some variables & functions"
   ],
   "metadata": {
    "collapsed": false,
    "pycharm": {
     "name": "#%% md\n"
    }
   }
  },
  {
   "cell_type": "code",
   "execution_count": 2,
   "outputs": [],
   "source": [
    "wd = os.path.sep.join([os.getcwd(), \"data\"])\n",
    "train_path = os.path.sep.join([wd, \"train\"])\n",
    "test_path = os.path.sep.join([wd, \"test\"])\n",
    "symblink_path = os.path.sep.join([wd, \"symblink\"])\n",
    "\n",
    "models_arch_path =os.path.sep.join([wd, \"models_architecture\"])\n",
    "models_history_path =os.path.sep.join([wd, \"models_history\"])\n",
    "models_weights_path =os.path.sep.join([wd, \"models_weight\"])"
   ],
   "metadata": {
    "collapsed": false,
    "pycharm": {
     "name": "#%%\n"
    }
   }
  },
  {
   "cell_type": "code",
   "execution_count": 3,
   "outputs": [],
   "source": [
    "def show_results(_model, _hist, metric):\n",
    "    \"\"\"\n",
    "    Used to shows classification report, confusion matrix for the prediction of the test set and learning curves from the training\n",
    "    :param _model: fitted model\n",
    "    :param _hist: model's history\n",
    "    :param metric: metric to show in the learning curves (accuracy/recall)\n",
    "    \"\"\"\n",
    "    fig, ax = plt.subplots(figsize=(8, 8))\n",
    "    sns.lineplot(x=range(len(_hist[metric])), y=_hist[metric], label=metric, ax=ax)\n",
    "    sns.lineplot(x=range(len(_hist[metric])), y=_hist[\"val_\"+metric], label=\"val \"+metric, ax=ax)\n",
    "    sns.lineplot(x=range(len(_hist[metric])), y=_hist[\"loss\"], label=\"loss\", ax=ax)\n",
    "    sns.lineplot(x=range(len(_hist[metric])), y=_hist[\"val_loss\"], label=\"val loss\", ax=ax)\n",
    "\n",
    "    y_true = test_gen.classes\n",
    "    y_pred = np.argmax(model.predict(test_gen), axis=1)\n",
    "\n",
    "    report = classification_report(y_true, y_pred)\n",
    "    print(report)\n",
    "\n",
    "    cf_matrix = confusion_matrix(y_true, y_pred)\n",
    "    group_names = [\"True Neg\", \"False Pos\", \"False Neg\", \"True Pos\"]\n",
    "    group_counts = [\"{0:0.0f}\".format(value) for value in cf_matrix.flatten()]\n",
    "    group_percentages = [\"{0:.2%}\".format(value) for value in cf_matrix.flatten()/np.sum(cf_matrix)]\n",
    "    labels = [f\"{v1}\\n{v2}\\n{v3}\" for v1, v2, v3 in zip(group_names,group_counts,group_percentages)]\n",
    "    labels = np.asarray(labels).reshape(2,2)\n",
    "    fig, ax = plt.subplots(figsize=(8, 8))\n",
    "    sns.heatmap(cf_matrix, annot=labels, fmt=\"\", cmap='Blues', ax=ax)\n",
    "\n",
    "def recall(y_true, y_pred):\n",
    "    \"\"\"\n",
    "    Compute the recall metric\n",
    "    \"\"\"\n",
    "    true_positives = K.sum(K.round(K.clip(y_true * y_pred, 0, 1)))\n",
    "    possible_positives = K.sum(K.round(K.clip(y_true, 0, 1)))\n",
    "    recall = true_positives / (possible_positives + K.epsilon())\n",
    "    return recall\n",
    "\n",
    "def save(name):\n",
    "    with open(os.path.sep.join([models_history_path, f\"{name}.pickle\"]), \"wb\") as handle:\n",
    "        pickle.dump(hist, handle, protocol=pickle.HIGHEST_PROTOCOL)\n",
    "\n",
    "def load(name):\n",
    "    with open(os.path.sep.join([models_history_path, f\"{name}.pickle\"]), \"rb\") as handle:\n",
    "        return pickle.load(handle)"
   ],
   "metadata": {
    "collapsed": false,
    "pycharm": {
     "name": "#%%\n"
    }
   }
  },
  {
   "cell_type": "markdown",
   "source": [
    "## Declaration of the image generators used to train models without having to load images in cache\n",
    "input from multiple directories with keras https://stackoverflow.com/questions/60787620/combine-two-data-generator-to-train-a-cnn"
   ],
   "metadata": {
    "collapsed": false,
    "pycharm": {
     "name": "#%% md\n"
    }
   }
  },
  {
   "cell_type": "code",
   "execution_count": 9,
   "outputs": [
    {
     "name": "stdout",
     "output_type": "stream",
     "text": [
      "Found 83018 images belonging to 2 classes.\n",
      "Found 165331 images belonging to 2 classes.\n",
      "Found 29175 images belonging to 2 classes.\n",
      "Found 165331 images belonging to 2 classes.\n",
      "Found 29175 images belonging to 2 classes.\n"
     ]
    }
   ],
   "source": [
    "# generators\n",
    "train_gen = ImageDataGenerator(validation_split=.15, rescale=1 / 255.0)\n",
    "test_gen = ImageDataGenerator(rescale=1 / 255.0)\n",
    "\n",
    "test_gen = test_gen.flow_from_directory(test_path, target_size=(51,51), batch_size=1, shuffle=False)\n",
    "\n",
    "# set the flow of generators for the train/test/validation\n",
    "training_gen_original = train_gen.flow_from_directory(train_path, target_size=(51,51), subset=\"training\", batch_size=32, shuffle=True)\n",
    "validation_gen_original = train_gen.flow_from_directory(train_path, target_size=(51,51), subset=\"validation\", batch_size=32, shuffle=False)\n",
    "\n",
    "\n",
    "# set the flow of generator for augmented data in train/validation\n",
    "train_gen_augmented = ImageDataGenerator(rotation_range=25, horizontal_flip=True, vertical_flip=True, brightness_range=[.7, 1.3], zoom_range=.1, validation_split=.15, rescale=1 / 255.0)\n",
    "training_gen_augmented = train_gen_augmented.flow_from_directory(train_path, target_size=(51,51), subset=\"training\", batch_size=32, shuffle=True)\n",
    "validation_gen_augmented = train_gen_augmented.flow_from_directory(train_path, target_size=(51,51), subset=\"validation\", batch_size=32, shuffle=False)"
   ],
   "metadata": {
    "collapsed": false,
    "pycharm": {
     "name": "#%%\n"
    }
   }
  },
  {
   "cell_type": "code",
   "execution_count": 10,
   "outputs": [],
   "source": [
    "from math import ceil\n",
    "epochs = 50\n",
    "batch_size = 32\n",
    "optimizer = Adam(learning_rate=0.000_1)\n",
    "\n",
    "callback = lambda x: [EarlyStopping(monitor='val_recall', patience=2, mode=\"min\"), ModelCheckpoint(filepath=os.path.sep.join([models_weights_path, f\"{x}_weights.h5\"]), monitor='val_recall', save_weights_only=True, save_best_only=True)]\n",
    "\n",
    "train_step_per_epoch = ceil((len(training_gen_original.classes)*0.85/batch_size)-1)   # total number of images in the train set\n",
    "validation_step_per_epoch = ceil((len(training_gen_original.classes)*0.15/batch_size)-1)   # total number of images in the train set"
   ],
   "metadata": {
    "collapsed": false,
    "pycharm": {
     "name": "#%%\n"
    }
   }
  },
  {
   "cell_type": "markdown",
   "metadata": {
    "collapsed": true,
    "pycharm": {
     "name": "#%% md\n"
    }
   },
   "source": [
    "## CNN - Declaration of the model"
   ]
  },
  {
   "cell_type": "code",
   "execution_count": 6,
   "outputs": [],
   "source": [
    "def get_model():\n",
    "    _model = Sequential()\n",
    "    _model.add(SeparableConv2D(32, (3, 3), activation=\"relu\"))\n",
    "    _model.add(BatchNormalization(axis=-1))\n",
    "    _model.add(MaxPooling2D((2, 2)))\n",
    "\n",
    "    _model.add(SeparableConv2D(32, (3, 3), activation=\"relu\"))\n",
    "    _model.add(BatchNormalization(axis=-1))\n",
    "    _model.add(MaxPooling2D((2, 2)))\n",
    "\n",
    "    _model.add(SeparableConv2D(64, (3, 3), activation=\"relu\"))\n",
    "    _model.add(BatchNormalization(axis=-1))\n",
    "    _model.add(MaxPooling2D(pool_size=(2, 2)))\n",
    "\n",
    "    _model.add(Flatten())\n",
    "\n",
    "    _model.add(Dense(64, activation=\"relu\"))\n",
    "    _model.add(BatchNormalization(axis=-1))\n",
    "    _model.add(Dropout(0.5))\n",
    "    _model.add(Dense(2, activation=\"softmax\"))\n",
    "    return _model\n",
    "\n",
    "model = get_model()\n",
    "model.compile(loss='binary_crossentropy', optimizer=optimizer, metrics=[\"accuracy\", recall])"
   ],
   "metadata": {
    "collapsed": false,
    "pycharm": {
     "name": "#%%\n"
    }
   }
  },
  {
   "cell_type": "code",
   "execution_count": null,
   "outputs": [],
   "source": [
    "model.build((32, 51, 51, 3))\n",
    "plot_model(model, to_file=os.path.sep.join([models_arch_path, \"CNN.png\"]), rankdir=\"LR\")"
   ],
   "metadata": {
    "collapsed": false,
    "pycharm": {
     "name": "#%%\n"
    }
   }
  },
  {
   "cell_type": "markdown",
   "source": [
    "## CNN - Model without data augmentation\n",
    "### Perform classes weight to prioritize sample that are fewer (classe 1)"
   ],
   "metadata": {
    "collapsed": false
   }
  },
  {
   "cell_type": "code",
   "execution_count": 7,
   "outputs": [
    {
     "data": {
      "text/plain": "{0: 0.698442001740497, 1: 1.7598139396261763}"
     },
     "execution_count": 7,
     "metadata": {},
     "output_type": "execute_result"
    }
   ],
   "source": [
    "from sklearn.utils import class_weight\n",
    "\n",
    "class_weights = class_weight.compute_class_weight('balanced', classes=np.unique(training_gen_original.classes), y=training_gen_original.classes)\n",
    "train_class_weights = dict(enumerate(class_weights))\n",
    "train_class_weights"
   ],
   "metadata": {
    "collapsed": false,
    "pycharm": {
     "name": "#%%\n"
    }
   }
  },
  {
   "cell_type": "code",
   "execution_count": 8,
   "outputs": [
    {
     "name": "stdout",
     "output_type": "stream",
     "text": [
      "Epoch 1/50\n",
      "4391/4391 [==============================] - 209s 47ms/step - loss: 0.5398 - accuracy: 0.7801 - recall: 0.7801 - val_loss: 0.5886 - val_accuracy: 0.7541 - val_recall: 0.7541\n",
      "Epoch 2/50\n",
      "4391/4391 [==============================] - 207s 47ms/step - loss: 0.4409 - accuracy: 0.8147 - recall: 0.8147 - val_loss: 0.4176 - val_accuracy: 0.8179 - val_recall: 0.8179\n",
      "Epoch 3/50\n",
      "4391/4391 [==============================] - 230s 52ms/step - loss: 0.4108 - accuracy: 0.8233 - recall: 0.8233 - val_loss: 0.4153 - val_accuracy: 0.8246 - val_recall: 0.8246\n"
     ]
    }
   ],
   "source": [
    "hist = model.fit(x=training_gen_original, validation_data=validation_gen_original, callbacks=callback(\"CNN_classic\"), epochs=epochs, class_weight=train_class_weights, batch_size=batch_size, steps_per_epoch=train_step_per_epoch, validation_steps=validation_step_per_epoch).history"
   ],
   "metadata": {
    "collapsed": false,
    "pycharm": {
     "name": "#%%\n"
    }
   }
  },
  {
   "cell_type": "code",
   "execution_count": 9,
   "outputs": [
    {
     "name": "stdout",
     "output_type": "stream",
     "text": [
      "              precision    recall  f1-score   support\n",
      "\n",
      "           0       0.89      0.87      0.88     59495\n",
      "           1       0.70      0.73      0.71     23523\n",
      "\n",
      "    accuracy                           0.83     83018\n",
      "   macro avg       0.79      0.80      0.80     83018\n",
      "weighted avg       0.84      0.83      0.83     83018\n",
      "\n"
     ]
    },
    {
     "data": {
      "text/plain": "<Figure size 576x576 with 1 Axes>",
      "image/png": "[encoded data removed]"
     },
     "metadata": {
      "needs_background": "light"
     },
     "output_type": "display_data"
    },
    {
     "data": {
      "text/plain": "<Figure size 576x576 with 2 Axes>",
      "image/png": "[encoded data removed]"
     },
     "metadata": {
      "needs_background": "light"
     },
     "output_type": "display_data"
    }
   ],
   "source": [
    "model.load_weights(os.path.sep.join([models_weights_path, \"CNN_classic.h5\"]))\n",
    "save(\"history_classic\")\n",
    "hist = load(\"history_classic\")\n",
    "show_results(_model=model, _hist=hist, metric=\"recall\")"
   ],
   "metadata": {
    "collapsed": false,
    "pycharm": {
     "name": "#%%\n"
    }
   }
  },
  {
   "cell_type": "markdown",
   "source": [
    "## CNN - Model with data augmentation"
   ],
   "metadata": {
    "collapsed": false,
    "pycharm": {
     "name": "#%% md\n"
    }
   }
  },
  {
   "cell_type": "code",
   "execution_count": 10,
   "outputs": [],
   "source": [
    "# reset test generator\n",
    "test_gen.reset()"
   ],
   "metadata": {
    "collapsed": false,
    "pycharm": {
     "name": "#%%\n"
    }
   }
  },
  {
   "cell_type": "code",
   "execution_count": 8,
   "outputs": [
    {
     "name": "stdout",
     "output_type": "stream",
     "text": [
      "Epoch 1/50\n",
      "4391/4391 [==============================] - 359s 82ms/step - loss: 0.5257 - accuracy: 0.7744 - recall: 0.7744 - val_loss: 0.7414 - val_accuracy: 0.6399 - val_recall: 0.6399\n",
      "Epoch 2/50\n",
      "4391/4391 [==============================] - 326s 74ms/step - loss: 0.4496 - accuracy: 0.8082 - recall: 0.8082 - val_loss: 0.6655 - val_accuracy: 0.6758 - val_recall: 0.6758\n",
      "Epoch 3/50\n",
      "4391/4391 [==============================] - 346s 79ms/step - loss: 0.4274 - accuracy: 0.8149 - recall: 0.8149 - val_loss: 0.7641 - val_accuracy: 0.6017 - val_recall: 0.6017\n",
      "Epoch 4/50\n",
      "4391/4391 [==============================] - 341s 78ms/step - loss: 0.4166 - accuracy: 0.8207 - recall: 0.8207 - val_loss: 0.6521 - val_accuracy: 0.6827 - val_recall: 0.6827\n",
      "Epoch 5/50\n",
      "4391/4391 [==============================] - 344s 78ms/step - loss: 0.4098 - accuracy: 0.8234 - recall: 0.8234 - val_loss: 0.6681 - val_accuracy: 0.6864 - val_recall: 0.6864\n"
     ]
    }
   ],
   "source": [
    "model = get_model()\n",
    "hist = model.fit(x=training_gen_augmented, validation_data=validation_gen_augmented, callbacks=callback(\"CNN_DAugmentation\"), epochs=epochs, class_weight=train_class_weights, batch_size=batch_size, steps_per_epoch=train_step_per_epoch, validation_steps=validation_step_per_epoch).history"
   ],
   "metadata": {
    "collapsed": false,
    "pycharm": {
     "name": "#%%\n"
    }
   }
  },
  {
   "cell_type": "code",
   "execution_count": 10,
   "outputs": [
    {
     "name": "stdout",
     "output_type": "stream",
     "text": [
      "              precision    recall  f1-score   support\n",
      "\n",
      "           0       0.92      0.77      0.84     59495\n",
      "           1       0.58      0.83      0.68     23523\n",
      "\n",
      "    accuracy                           0.78     83018\n",
      "   macro avg       0.75      0.80      0.76     83018\n",
      "weighted avg       0.82      0.78      0.79     83018\n",
      "\n"
     ]
    },
    {
     "data": {
      "text/plain": "<Figure size 576x576 with 1 Axes>",
      "image/png": "[encoded data removed]"
     },
     "metadata": {
      "needs_background": "light"
     },
     "output_type": "display_data"
    },
    {
     "data": {
      "text/plain": "<Figure size 576x576 with 2 Axes>",
      "image/png": "[encoded data removed]"
     },
     "metadata": {
      "needs_background": "light"
     },
     "output_type": "display_data"
    }
   ],
   "source": [
    "model.load_weights(os.path.sep.join([models_weights_path, \"CNN_DAugmentation_weights.h5\"]))\n",
    "save(\"history_DAugmentation\")\n",
    "hist = load(\"history_DAugmentation\")\n",
    "show_results(_model=model, _hist=hist, metric=\"recall\")"
   ],
   "metadata": {
    "collapsed": false,
    "pycharm": {
     "name": "#%%\n"
    }
   }
  },
  {
   "cell_type": "markdown",
   "source": [
    "## CNN using a pre trained model to extract features + data augmentation"
   ],
   "metadata": {
    "collapsed": false,
    "pycharm": {
     "name": "#%% md\n"
    }
   }
  },
  {
   "cell_type": "code",
   "execution_count": 4,
   "outputs": [],
   "source": [
    "batch_size = 64"
   ],
   "metadata": {
    "collapsed": false,
    "pycharm": {
     "name": "#%%\n"
    }
   }
  },
  {
   "cell_type": "code",
   "execution_count": 5,
   "outputs": [
    {
     "name": "stdout",
     "output_type": "stream",
     "text": [
      "Found 165331 images belonging to 2 classes.\n",
      "Found 29175 images belonging to 2 classes.\n",
      "Found 83018 images belonging to 2 classes.\n"
     ]
    }
   ],
   "source": [
    "# news generators with appropriate params (preprocess function, target_size)\n",
    "img_datagen = ImageDataGenerator(preprocessing_function=preprocess_input, validation_split=.15)\n",
    "training_gen_augmented = img_datagen.flow_from_directory(train_path, target_size=(71,71), subset=\"training\", batch_size=batch_size, shuffle=True)\n",
    "validation_gen_augmented = img_datagen.flow_from_directory(train_path, target_size=(71,71), subset=\"validation\", batch_size=batch_size, shuffle=False)\n",
    "test_gen = img_datagen.flow_from_directory(test_path, target_size=(71,71), batch_size=1, shuffle=False)"
   ],
   "metadata": {
    "collapsed": false,
    "pycharm": {
     "name": "#%%\n"
    }
   }
  },
  {
   "cell_type": "code",
   "execution_count": 24,
   "outputs": [],
   "source": [
    "from tensorflow.keras.layers.experimental.preprocessing import Resizing\n",
    "\n",
    "base_model = Xception(include_top=False, input_shape=(71, 71, 3))\n",
    "base_model.trainable = False\n",
    "\n",
    "flatten_layer = Flatten()\n",
    "dense_layer_1 = Dense(64, activation='relu')\n",
    "\n",
    "dense_layer_2 = Dense(32, activation='relu')\n",
    "prediction_layer = Dense(2, activation='softmax')\n",
    "dropout_layer = lambda x: Dropout(x)\n",
    "\n",
    "model = Sequential([\n",
    "    Resizing(71, 71),\n",
    "    base_model,\n",
    "    flatten_layer,\n",
    "    dense_layer_1,\n",
    "    dropout_layer(.25),\n",
    "    dense_layer_2,\n",
    "    dropout_layer(.5),\n",
    "    prediction_layer\n",
    "])\n",
    "\n",
    "model.compile(loss='binary_crossentropy', optimizer=optimizer, metrics=[\"accuracy\", recall])"
   ],
   "metadata": {
    "collapsed": false,
    "pycharm": {
     "name": "#%%\n"
    }
   }
  },
  {
   "cell_type": "code",
   "execution_count": 34,
   "outputs": [
    {
     "name": "stdout",
     "output_type": "stream",
     "text": [
      "Epoch 1/50\n",
      "4391/4391 [==============================] - 1708s 388ms/step - loss: 0.5123 - accuracy: 0.7857 - recall: 0.7857 - val_loss: 0.5222 - val_accuracy: 0.7692 - val_recall: 0.7692\n",
      "Epoch 2/50\n",
      "4391/4391 [==============================] - 1656s 377ms/step - loss: 0.4641 - accuracy: 0.8063 - recall: 0.8063 - val_loss: 0.6040 - val_accuracy: 0.7446 - val_recall: 0.7446\n",
      "Epoch 3/50\n",
      "4391/4391 [==============================] - 1636s 373ms/step - loss: 0.4481 - accuracy: 0.8093 - recall: 0.8093 - val_loss: 0.5305 - val_accuracy: 0.7746 - val_recall: 0.7746\n",
      "Epoch 4/50\n",
      "4391/4391 [==============================] - 1744s 397ms/step - loss: 0.4351 - accuracy: 0.8113 - recall: 0.8113 - val_loss: 0.5482 - val_accuracy: 0.7669 - val_recall: 0.7669\n"
     ]
    }
   ],
   "source": [
    "hist = model.fit(x=training_gen_original, validation_data=validation_gen_original, callbacks=callback(\"Xception_TLearning\"), epochs=epochs, class_weight=train_class_weights, batch_size=batch_size, steps_per_epoch=train_step_per_epoch, validation_steps=validation_step_per_epoch).history"
   ],
   "metadata": {
    "collapsed": false,
    "pycharm": {
     "name": "#%%\n"
    }
   }
  },
  {
   "cell_type": "code",
   "execution_count": 27,
   "outputs": [],
   "source": [
    "model.build(input_shape=(51, 51))\n",
    "model.load_weights(os.path.sep.join([models_weights_path, \"Xception_TLearning_weights.h5\"]))\n",
    "save(\"history_Xception_TLearning\")\n",
    "hist = load(\"history_Xception_TLearning\")\n",
    "show_results(_model=model, _hist=hist, metric=\"recall\")"
   ],
   "metadata": {
    "collapsed": false,
    "pycharm": {
     "name": "#%%\n"
    }
   }
  }
 ],
 "metadata": {
  "kernelspec": {
   "display_name": "Python 3",
   "language": "python",
   "name": "python3"
  },
  "language_info": {
   "codemirror_mode": {
    "name": "ipython",
    "version": 2
   },
   "file_extension": ".py",
   "mimetype": "text/x-python",
   "name": "python",
   "nbconvert_exporter": "python",
   "pygments_lexer": "ipython2",
   "version": "2.7.6"
  }
 },
 "nbformat": 4,
 "nbformat_minor": 0
}